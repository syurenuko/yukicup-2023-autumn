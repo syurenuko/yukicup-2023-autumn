{
 "cells": [
  {
   "cell_type": "code",
   "execution_count": 22,
   "metadata": {},
   "outputs": [],
   "source": [
    "import numpy as np\n",
    "import pandas as pd \n",
    "from sklearn.metrics import f1_score\n",
    "\n",
    "import matplotlib.pyplot as plt\n",
    "import matplotlib as mpl"
   ]
  },
  {
   "cell_type": "code",
   "execution_count": 2,
   "metadata": {},
   "outputs": [],
   "source": [
    "train = pd.read_csv('yukiCup2023Autumn-atmaCup_dataset/yukiCup 2023 Autumn x atmaCup/train.csv')\n",
    "test = pd.read_csv('yukiCup2023Autumn-atmaCup_dataset/yukiCup 2023 Autumn x atmaCup/test.csv')\n",
    "era = pd.read_csv('yukiCup2023Autumn-atmaCup_dataset/yukiCup 2023 Autumn x atmaCup/era.csv')\n",
    "sample_submission = pd.read_csv('yukiCup2023Autumn-atmaCup_dataset/yukiCup 2023 Autumn x atmaCup/sample_submission.csv')"
   ]
  },
  {
   "cell_type": "code",
   "execution_count": 4,
   "metadata": {},
   "outputs": [],
   "source": [
    "cat_ver1_oof = pd.read_csv('cat_ver1_oof.csv')\n",
    "cat_ver2_oof = pd.read_csv('cat_ver2_oof.csv')\n",
    "\n",
    "lgb_ver4_oof = pd.read_csv('lgb_ver4_oof.csv')\n",
    "lgb_ver5_oof = pd.read_csv('lgb_ver5_oof.csv')\n",
    "lgb_ver8_oof = pd.read_csv('lgb_ver8_oof.csv')\n",
    "\n",
    "xgb_ver1_oof = pd.read_csv('xgb_ver1_oof.csv')"
   ]
  },
  {
   "cell_type": "code",
   "execution_count": 5,
   "metadata": {},
   "outputs": [],
   "source": [
    "# oofの平均\n",
    "df_oof = (cat_ver1_oof[\"cat_ver1_oof\"] + cat_ver2_oof[\"cat_ver2_oof\"] + lgb_ver4_oof[\"lgb_ver4_oof\"] + lgb_ver5_oof[\"lgb_ver5_oof\"] + lgb_ver8_oof[\"lgb_ver8_oof\"] + xgb_ver1_oof[\"xgb_ver1_oof\"]) / 6"
   ]
  },
  {
   "cell_type": "code",
   "execution_count": 6,
   "metadata": {},
   "outputs": [],
   "source": [
    "df_oof = pd.DataFrame(df_oof, columns=[\"target\"])"
   ]
  },
  {
   "cell_type": "code",
   "execution_count": 9,
   "metadata": {},
   "outputs": [
    {
     "data": {
      "text/plain": [
       "array([0.02064485, 0.11461273, 0.36508017, ..., 0.07640363, 0.23026718,\n",
       "       0.02514092])"
      ]
     },
     "execution_count": 9,
     "metadata": {},
     "output_type": "execute_result"
    }
   ],
   "source": [
    "df_oof.target.values"
   ]
  },
  {
   "cell_type": "code",
   "execution_count": 11,
   "metadata": {},
   "outputs": [
    {
     "name": "stdout",
     "output_type": "stream",
     "text": [
      "Best threshold: 0.17171717171717174\n",
      "Best F1 Score: 0.3771331058020478\n"
     ]
    }
   ],
   "source": [
    "def find_optimal_threshold(y_true, y_scores):\n",
    "    thresholds = np.linspace(0, 1, 100)\n",
    "    best_threshold = 0\n",
    "    best_score = 0\n",
    "\n",
    "    for threshold in thresholds:\n",
    "        y_pred = (y_scores > threshold).astype(int)\n",
    "        score = f1_score(y_true, y_pred)\n",
    "\n",
    "        if score > best_score:\n",
    "            best_score = score\n",
    "            best_threshold = threshold\n",
    "\n",
    "    return best_threshold, best_score\n",
    "\n",
    "# 例として使用するデータ（実際にはモデルからの予測値と実際のラベルを使用）\n",
    "y_true = train['is_kokuhou'].values\n",
    "y_scores = df_oof.target.values\n",
    "\n",
    "best_threshold, best_f1_score = find_optimal_threshold(y_true, y_scores)\n",
    "print(f\"Best threshold: {best_threshold}\")\n",
    "print(f\"Best F1 Score: {best_f1_score}\")"
   ]
  },
  {
   "cell_type": "code",
   "execution_count": 13,
   "metadata": {},
   "outputs": [],
   "source": [
    "cat_ver1_test = pd.read_csv('cat_ver1_test.csv')\n",
    "cat_ver2_test = pd.read_csv('cat_ver2_test.csv')\n",
    "\n",
    "lgb_ver4_test = pd.read_csv('lgb_ver4_test.csv')\n",
    "lgb_ver5_test = pd.read_csv('lgb_ver5_test.csv')\n",
    "lgb_ver8_test = pd.read_csv('lgb_ver8_test.csv')\n",
    "\n",
    "xgb_ver1_oof = pd.read_csv('xgb_ver1_test.csv')"
   ]
  },
  {
   "cell_type": "code",
   "execution_count": 14,
   "metadata": {},
   "outputs": [],
   "source": [
    "#　予測値の平均を取る\n",
    "df_test = (cat_ver1_test[\"cat_ver1_test\"] + cat_ver2_test[\"cat_ver2_test\"] + lgb_ver4_test[\"lgb_ver4_test\"] + lgb_ver5_test[\"lgb_ver5_test\"] + lgb_ver8_test[\"lgb_ver8_test\"] + xgb_ver1_oof[\"xgb_ver1_test\"]) / 6"
   ]
  },
  {
   "cell_type": "code",
   "execution_count": 15,
   "metadata": {},
   "outputs": [],
   "source": [
    "df_test = pd.DataFrame(df_test, columns=[\"target\"])"
   ]
  },
  {
   "cell_type": "code",
   "execution_count": 16,
   "metadata": {},
   "outputs": [
    {
     "data": {
      "text/plain": [
       "array([0.02182654, 0.22375342, 0.37755011, ..., 0.15299073, 0.02688222,\n",
       "       0.01984194])"
      ]
     },
     "execution_count": 16,
     "metadata": {},
     "output_type": "execute_result"
    }
   ],
   "source": [
    "df_test.target.values"
   ]
  },
  {
   "cell_type": "code",
   "execution_count": 17,
   "metadata": {},
   "outputs": [
    {
     "name": "stdout",
     "output_type": "stream",
     "text": [
      "[0 1 1 ... 0 0 0]\n",
      "(10065,)\n"
     ]
    }
   ],
   "source": [
    "# 閾値を超える確率を持つ要素を1に、それ以外を0に変換\n",
    "y_pred = (df_test.target.values > best_threshold).astype(int)\n",
    "print(y_pred)\n",
    "print(y_pred.shape)"
   ]
  },
  {
   "cell_type": "code",
   "execution_count": 18,
   "metadata": {},
   "outputs": [
    {
     "data": {
      "text/html": [
       "<div>\n",
       "<style scoped>\n",
       "    .dataframe tbody tr th:only-of-type {\n",
       "        vertical-align: middle;\n",
       "    }\n",
       "\n",
       "    .dataframe tbody tr th {\n",
       "        vertical-align: top;\n",
       "    }\n",
       "\n",
       "    .dataframe thead th {\n",
       "        text-align: right;\n",
       "    }\n",
       "</style>\n",
       "<table border=\"1\" class=\"dataframe\">\n",
       "  <thead>\n",
       "    <tr style=\"text-align: right;\">\n",
       "      <th></th>\n",
       "      <th>is_kokuhou</th>\n",
       "    </tr>\n",
       "  </thead>\n",
       "  <tbody>\n",
       "    <tr>\n",
       "      <th>0</th>\n",
       "      <td>0</td>\n",
       "    </tr>\n",
       "    <tr>\n",
       "      <th>1</th>\n",
       "      <td>1</td>\n",
       "    </tr>\n",
       "    <tr>\n",
       "      <th>2</th>\n",
       "      <td>1</td>\n",
       "    </tr>\n",
       "    <tr>\n",
       "      <th>3</th>\n",
       "      <td>0</td>\n",
       "    </tr>\n",
       "    <tr>\n",
       "      <th>4</th>\n",
       "      <td>0</td>\n",
       "    </tr>\n",
       "    <tr>\n",
       "      <th>...</th>\n",
       "      <td>...</td>\n",
       "    </tr>\n",
       "    <tr>\n",
       "      <th>10060</th>\n",
       "      <td>0</td>\n",
       "    </tr>\n",
       "    <tr>\n",
       "      <th>10061</th>\n",
       "      <td>0</td>\n",
       "    </tr>\n",
       "    <tr>\n",
       "      <th>10062</th>\n",
       "      <td>0</td>\n",
       "    </tr>\n",
       "    <tr>\n",
       "      <th>10063</th>\n",
       "      <td>0</td>\n",
       "    </tr>\n",
       "    <tr>\n",
       "      <th>10064</th>\n",
       "      <td>0</td>\n",
       "    </tr>\n",
       "  </tbody>\n",
       "</table>\n",
       "<p>10065 rows × 1 columns</p>\n",
       "</div>"
      ],
      "text/plain": [
       "       is_kokuhou\n",
       "0               0\n",
       "1               1\n",
       "2               1\n",
       "3               0\n",
       "4               0\n",
       "...           ...\n",
       "10060           0\n",
       "10061           0\n",
       "10062           0\n",
       "10063           0\n",
       "10064           0\n",
       "\n",
       "[10065 rows x 1 columns]"
      ]
     },
     "execution_count": 18,
     "metadata": {},
     "output_type": "execute_result"
    }
   ],
   "source": [
    "sample_submission['is_kokuhou'] = y_pred\n",
    "sample_submission"
   ]
  },
  {
   "cell_type": "code",
   "execution_count": 19,
   "metadata": {},
   "outputs": [
    {
     "data": {
      "text/plain": [
       "0    8972\n",
       "1    1093\n",
       "Name: is_kokuhou, dtype: int64"
      ]
     },
     "execution_count": 19,
     "metadata": {},
     "output_type": "execute_result"
    }
   ],
   "source": [
    "sample_submission[\"is_kokuhou\"].value_counts()"
   ]
  },
  {
   "cell_type": "code",
   "execution_count": 20,
   "metadata": {},
   "outputs": [],
   "source": [
    "sample_submission.to_csv('ensemble_6model.csv', index=False)"
   ]
  },
  {
   "cell_type": "code",
   "execution_count": 23,
   "metadata": {},
   "outputs": [
    {
     "data": {
      "image/png": "[encoded data removed]",
      "text/plain": [
       "<Figure size 576x432 with 1 Axes>"
      ]
     },
     "metadata": {
      "needs_background": "light"
     },
     "output_type": "display_data"
    }
   ],
   "source": [
    "fig, ax = plt.subplots(figsize=(8, 6))\n",
    "\n",
    "vmax = .02\n",
    "bins = np.linspace(0, 10, 100)\n",
    "ax.hist(df_test.target.values, bins=bins, density=True, alpha=.5, label=\"Test\")\n",
    "ax.hist(df_oof.target.values, bins=bins, density=True, alpha=.5, label=\"OutOfFold\")\n",
    "ax.grid()\n",
    "ax.legend()\n",
    "# ax.set_title(\"テストと学習時の予測傾向差分\")\n",
    "\n",
    "fig.tight_layout()"
   ]
  },
  {
   "cell_type": "code",
   "execution_count": null,
   "metadata": {},
   "outputs": [],
   "source": []
  }
 ],
 "metadata": {
  "kernelspec": {
   "display_name": "base",
   "language": "python",
   "name": "python3"
  },
  "language_info": {
   "codemirror_mode": {
    "name": "ipython",
    "version": 3
   },
   "file_extension": ".py",
   "mimetype": "text/x-python",
   "name": "python",
   "nbconvert_exporter": "python",
   "pygments_lexer": "ipython3",
   "version": "3.7.12"
  },
  "orig_nbformat": 4
 },
 "nbformat": 4,
 "nbformat_minor": 2
}
