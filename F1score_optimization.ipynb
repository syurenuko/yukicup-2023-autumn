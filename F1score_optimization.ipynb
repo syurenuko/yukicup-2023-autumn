{
 "cells": [
  {
   "cell_type": "code",
   "execution_count": null,
   "metadata": {},
   "outputs": [],
   "source": [
    "# F1スコアを計算 & 閾値の最適化\n",
    "\n",
    "from sklearn.metrics import f1_score\n",
    "\n",
    "def find_optimal_threshold(y_true, y_scores):\n",
    "    thresholds = np.linspace(0, 1, 100)\n",
    "    best_threshold = 0\n",
    "    best_score = 0\n",
    "\n",
    "    for threshold in thresholds:\n",
    "        y_pred = (y_scores > threshold).astype(int)\n",
    "        score = f1_score(y_true, y_pred)\n",
    "\n",
    "        if score > best_score:\n",
    "            best_score = score\n",
    "            best_threshold = threshold\n",
    "\n",
    "    return best_threshold, best_score"
   ]
  },
  {
   "cell_type": "code",
   "execution_count": null,
   "metadata": {},
   "outputs": [],
   "source": [
    "y_true = train[target_col].values # 正解のラベル\n",
    "y_scores = oof_prediction # oof_predictionの予測値（0~1までの確率値）\n",
    "\n",
    "best_threshold, best_f1_score = find_optimal_threshold(y_true, y_scores)\n",
    "print(f\"Best threshold: {best_threshold}\") # 最適な閾値\n",
    "print(f\"Best F1 Score: {best_f1_score}\") # 最適な閾値でのF1スコア"
   ]
  },
  {
   "cell_type": "code",
   "execution_count": null,
   "metadata": {},
   "outputs": [],
   "source": [
    "# test_predictionはテストデータの予測値（0~1までの確率値）\n",
    "# test_predictionでbest_thresholdを超える確率を持つ要素を1に、それ以外を0に変換\n",
    "y_pred = (test_prediction > best_threshold).astype(int)\n",
    "print(y_pred)\n",
    "print(y_pred.shape)"
   ]
  },
  {
   "cell_type": "code",
   "execution_count": null,
   "metadata": {},
   "outputs": [],
   "source": [
    "# 提出用ファイルの作成\n",
    "sample_submission['is_kokuhou'] = y_pred\n",
    "sample_submission.to_csv('submission.csv', index=False)"
   ]
  }
 ],
 "metadata": {
  "language_info": {
   "name": "python"
  },
  "orig_nbformat": 4
 },
 "nbformat": 4,
 "nbformat_minor": 2
}
