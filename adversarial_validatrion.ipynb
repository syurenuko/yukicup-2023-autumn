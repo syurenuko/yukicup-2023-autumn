{
 "cells": [
  {
   "cell_type": "code",
   "execution_count": 2,
   "metadata": {},
   "outputs": [
    {
     "data": {
      "text/html": [
       "<style type='text/css'>\n",
       ".datatable table.frame { margin-bottom: 0; }\n",
       ".datatable table.frame thead { border-bottom: none; }\n",
       ".datatable table.frame tr.coltypes td {  color: #FFFFFF;  line-height: 6px;  padding: 0 0.5em;}\n",
       ".datatable .bool    { background: #DDDD99; }\n",
       ".datatable .object  { background: #565656; }\n",
       ".datatable .int     { background: #5D9E5D; }\n",
       ".datatable .float   { background: #4040CC; }\n",
       ".datatable .str     { background: #CC4040; }\n",
       ".datatable .time    { background: #40CC40; }\n",
       ".datatable .row_index {  background: var(--jp-border-color3);  border-right: 1px solid var(--jp-border-color0);  color: var(--jp-ui-font-color3);  font-size: 9px;}\n",
       ".datatable .frame tbody td { text-align: left; }\n",
       ".datatable .frame tr.coltypes .row_index {  background: var(--jp-border-color0);}\n",
       ".datatable th:nth-child(2) { padding-left: 12px; }\n",
       ".datatable .hellipsis {  color: var(--jp-cell-editor-border-color);}\n",
       ".datatable .vellipsis {  background: var(--jp-layout-color0);  color: var(--jp-cell-editor-border-color);}\n",
       ".datatable .na {  color: var(--jp-cell-editor-border-color);  font-size: 80%;}\n",
       ".datatable .sp {  opacity: 0.25;}\n",
       ".datatable .footer { font-size: 9px; }\n",
       ".datatable .frame_dimensions {  background: var(--jp-border-color3);  border-top: 1px solid var(--jp-border-color0);  color: var(--jp-ui-font-color3);  display: inline-block;  opacity: 0.6;  padding: 1px 10px 1px 5px;}\n",
       "</style>\n"
      ],
      "text/plain": [
       "<IPython.core.display.HTML object>"
      ]
     },
     "metadata": {},
     "output_type": "display_data"
    }
   ],
   "source": [
    "import pandas as pd\n",
    "import numpy as np\n",
    "from nyaggle.validation import adversarial_validate\n",
    "\n",
    "import pandas as pd\n",
    "import numpy as np\n",
    "import matplotlib.pyplot as plt\n",
    "import matplotlib as mpl\n",
    "# 日本語フォントの指定\n",
    "mpl.rcParams['font.family'] = 'IPAexGothic' # ここにインストールしたフォント名を入れる\n",
    "\n",
    "from sklearn.model_selection import KFold\n",
    "from sklearn.model_selection import GroupKFold\n",
    "from sklearn.model_selection import StratifiedKFold\n",
    "from nyaggle.feature.category_encoder import TargetEncoder\n",
    "\n",
    "from nyaggle.experiment import run_experiment\n",
    "\n",
    "train = pd.read_csv('yukiCup2023Autumn-atmaCup_dataset/yukiCup 2023 Autumn x atmaCup/train_feature_ver1.csv')\n",
    "test = pd.read_csv('yukiCup2023Autumn-atmaCup_dataset/yukiCup 2023 Autumn x atmaCup/test_feature_ver1.csv')\n"
   ]
  },
  {
   "cell_type": "code",
   "execution_count": 9,
   "metadata": {},
   "outputs": [
    {
     "name": "stdout",
     "output_type": "stream",
     "text": [
      "['棟名', '種別2', '国', '時代', '都道府県 ※美工品は「所有者住所（所在都道府県）」', '所在地', '保管施設の名称', '所有者名', '管理団体又は責任者']\n",
      "['緯度', '経度', '開始', '終了', '緯度*経度', '終了-開始', 'label_棟名', 'label_種別2', 'label_国', 'label_時代', 'label_都道府県 ※美工品は「所有者住所（所在都道府県）」', 'label_所在地', 'label_保管施設の名称', 'label_所有者名', 'label_管理団体又は責任者', 'count_棟名', 'count_種別2', 'count_国', 'count_時代', 'count_都道府県 ※美工品は「所有者住所（所在都道府県）」', 'count_所在地', 'count_保管施設の名称', 'count_所有者名', 'count_管理団体又は責任者', '棟名_緯度_min', '棟名_緯度_max', '棟名_緯度_mean', '棟名_緯度_std', '棟名_経度_min', '棟名_経度_max', '棟名_経度_mean', '棟名_経度_std', '棟名_開始_min', '棟名_開始_max', '棟名_開始_mean', '棟名_開始_std', '棟名_終了_min', '棟名_終了_max', '棟名_終了_mean', '棟名_終了_std', '棟名_緯度*経度_min', '棟名_緯度*経度_max', '棟名_緯度*経度_mean', '棟名_緯度*経度_std', '棟名_終了-開始_min', '棟名_終了-開始_max', '棟名_終了-開始_mean', '棟名_終了-開始_std', '種別2_緯度_min', '種別2_緯度_max', '種別2_緯度_mean', '種別2_緯度_std', '種別2_経度_min', '種別2_経度_max', '種別2_経度_mean', '種別2_経度_std', '種別2_開始_min', '種別2_開始_max', '種別2_開始_mean', '種別2_開始_std', '種別2_終了_min', '種別2_終了_max', '種別2_終了_mean', '種別2_終了_std', '種別2_緯度*経度_min', '種別2_緯度*経度_max', '種別2_緯度*経度_mean', '種別2_緯度*経度_std', '種別2_終了-開始_min', '種別2_終了-開始_max', '種別2_終了-開始_mean', '種別2_終了-開始_std', '国_緯度_min', '国_緯度_max', '国_緯度_mean', '国_緯度_std', '国_経度_min', '国_経度_max', '国_経度_mean', '国_経度_std', '国_開始_min', '国_開始_max', '国_開始_mean', '国_開始_std', '国_終了_min', '国_終了_max', '国_終了_mean', '国_終了_std', '国_緯度*経度_min', '国_緯度*経度_max', '国_緯度*経度_mean', '国_緯度*経度_std', '国_終了-開始_min', '国_終了-開始_max', '国_終了-開始_mean', '国_終了-開始_std', '時代_緯度_min', '時代_緯度_max', '時代_緯度_mean', '時代_緯度_std', '時代_経度_min', '時代_経度_max', '時代_経度_mean', '時代_経度_std', '時代_開始_min', '時代_開始_max', '時代_開始_mean', '時代_開始_std', '時代_終了_min', '時代_終了_max', '時代_終了_mean', '時代_終了_std', '時代_緯度*経度_min', '時代_緯度*経度_max', '時代_緯度*経度_mean', '時代_緯度*経度_std', '時代_終了-開始_min', '時代_終了-開始_max', '時代_終了-開始_mean', '時代_終了-開始_std', '都道府県 ※美工品は「所有者住所（所在都道府県）」_緯度_min', '都道府県 ※美工品は「所有者住所（所在都道府県）」_緯度_max', '都道府県 ※美工品は「所有者住所（所在都道府県）」_緯度_mean', '都道府県 ※美工品は「所有者住所（所在都道府県）」_緯度_std', '都道府県 ※美工品は「所有者住所（所在都道府県）」_経度_min', '都道府県 ※美工品は「所有者住所（所在都道府県）」_経度_max', '都道府県 ※美工品は「所有者住所（所在都道府県）」_経度_mean', '都道府県 ※美工品は「所有者住所（所在都道府県）」_経度_std', '都道府県 ※美工品は「所有者住所（所在都道府県）」_開始_min', '都道府県 ※美工品は「所有者住所（所在都道府県）」_開始_max', '都道府県 ※美工品は「所有者住所（所在都道府県）」_開始_mean', '都道府県 ※美工品は「所有者住所（所在都道府県）」_開始_std', '都道府県 ※美工品は「所有者住所（所在都道府県）」_終了_min', '都道府県 ※美工品は「所有者住所（所在都道府県）」_終了_max', '都道府県 ※美工品は「所有者住所（所在都道府県）」_終了_mean', '都道府県 ※美工品は「所有者住所（所在都道府県）」_終了_std', '都道府県 ※美工品は「所有者住所（所在都道府県）」_緯度*経度_min', '都道府県 ※美工品は「所有者住所（所在都道府県）」_緯度*経度_max', '都道府県 ※美工品は「所有者住所（所在都道府県）」_緯度*経度_mean', '都道府県 ※美工品は「所有者住所（所在都道府県）」_緯度*経度_std', '都道府県 ※美工品は「所有者住所（所在都道府県）」_終了-開始_min', '都道府県 ※美工品は「所有者住所（所在都道府県）」_終了-開始_max', '都道府県 ※美工品は「所有者住所（所在都道府県）」_終了-開始_mean', '都道府県 ※美工品は「所有者住所（所在都道府県）」_終了-開始_std', '所在地_緯度_min', '所在地_緯度_max', '所在地_緯度_mean', '所在地_緯度_std', '所在地_経度_min', '所在地_経度_max', '所在地_経度_mean', '所在地_経度_std', '所在地_開始_min', '所在地_開始_max', '所在地_開始_mean', '所在地_開始_std', '所在地_終了_min', '所在地_終了_max', '所在地_終了_mean', '所在地_終了_std', '所在地_緯度*経度_min', '所在地_緯度*経度_max', '所在地_緯度*経度_mean', '所在地_緯度*経度_std', '所在地_終了-開始_min', '所在地_終了-開始_max', '所在地_終了-開始_mean', '所在地_終了-開始_std', '保管施設の名称_緯度_min', '保管施設の名称_緯度_max', '保管施設の名称_緯度_mean', '保管施設の名称_緯度_std', '保管施設の名称_経度_min', '保管施設の名称_経度_max', '保管施設の名称_経度_mean', '保管施設の名称_経度_std', '保管施設の名称_開始_min', '保管施設の名称_開始_max', '保管施設の名称_開始_mean', '保管施設の名称_開始_std', '保管施設の名称_終了_min', '保管施設の名称_終了_max', '保管施設の名称_終了_mean', '保管施設の名称_終了_std', '保管施設の名称_緯度*経度_min', '保管施設の名称_緯度*経度_max', '保管施設の名称_緯度*経度_mean', '保管施設の名称_緯度*経度_std', '保管施設の名称_終了-開始_min', '保管施設の名称_終了-開始_max', '保管施設の名称_終了-開始_mean', '保管施設の名称_終了-開始_std', '所有者名_緯度_min', '所有者名_緯度_max', '所有者名_緯度_mean', '所有者名_緯度_std', '所有者名_経度_min', '所有者名_経度_max', '所有者名_経度_mean', '所有者名_経度_std', '所有者名_開始_min', '所有者名_開始_max', '所有者名_開始_mean', '所有者名_開始_std', '所有者名_終了_min', '所有者名_終了_max', '所有者名_終了_mean', '所有者名_終了_std', '所有者名_緯度*経度_min', '所有者名_緯度*経度_max', '所有者名_緯度*経度_mean', '所有者名_緯度*経度_std', '所有者名_終了-開始_min', '所有者名_終了-開始_max', '所有者名_終了-開始_mean', '所有者名_終了-開始_std', '管理団体又は責任者_緯度_min', '管理団体又は責任者_緯度_max', '管理団体又は責任者_緯度_mean', '管理団体又は責任者_緯度_std', '管理団体又は責任者_経度_min', '管理団体又は責任者_経度_max', '管理団体又は責任者_経度_mean', '管理団体又は責任者_経度_std', '管理団体又は責任者_開始_min', '管理団体又は責任者_開始_max', '管理団体又は責任者_開始_mean', '管理団体又は責任者_開始_std', '管理団体又は責任者_終了_min', '管理団体又は責任者_終了_max', '管理団体又は責任者_終了_mean', '管理団体又は責任者_終了_std', '管理団体又は責任者_緯度*経度_min', '管理団体又は責任者_緯度*経度_max', '管理団体又は責任者_緯度*経度_mean', '管理団体又は責任者_緯度*経度_std', '管理団体又は責任者_終了-開始_min', '管理団体又は責任者_終了-開始_max', '管理団体又は責任者_終了-開始_mean', '管理団体又は責任者_終了-開始_std']\n",
      "is_kokuhou\n"
     ]
    },
    {
     "name": "stderr",
     "output_type": "stream",
     "text": [
      "/opt/conda/lib/python3.7/site-packages/ipykernel_launcher.py:2: DeprecationWarning: `np.object` is a deprecated alias for the builtin `object`. To silence this warning, use `object` by itself. Doing this will not modify any behavior and is safe. \n",
      "Deprecated in NumPy 1.20; for more details and guidance: https://numpy.org/devdocs/release/1.20.0-notes.html#deprecations\n",
      "  \n",
      "/opt/conda/lib/python3.7/site-packages/ipykernel_launcher.py:5: DeprecationWarning: `np.object` is a deprecated alias for the builtin `object`. To silence this warning, use `object` by itself. Doing this will not modify any behavior and is safe. \n",
      "Deprecated in NumPy 1.20; for more details and guidance: https://numpy.org/devdocs/release/1.20.0-notes.html#deprecations\n",
      "  \"\"\"\n"
     ]
    }
   ],
   "source": [
    "#categorical変数抽出\n",
    "cat_cols = [c for c in test.columns if train[c].dtype == np.object]\n",
    "\n",
    "# numerical変数抽出\n",
    "num_cols = [c for c in test.columns if train[c].dtype != np.object]\n",
    "\n",
    "#目的変数抽出\n",
    "target_col = 'is_kokuhou'\n",
    "\n",
    "print(cat_cols)\n",
    "print(num_cols)\n",
    "print(target_col)"
   ]
  },
  {
   "cell_type": "code",
   "execution_count": 10,
   "metadata": {},
   "outputs": [],
   "source": [
    "# target encoding\n",
    "\n",
    "# kf = KFold(4)\n",
    "# kf = KFold(4, groups=train.categorical)　#GroupKFold\n",
    "kf = StratifiedKFold(5, shuffle=True, random_state=42531) #StratifiedKFold\n",
    "\n",
    "# Target encoding with K-fold\n",
    "# te = TargetEncoder(kf.split(train))\n",
    "# te = TargetEncoder(kf.split(train)) #GroupKFold\n",
    "te = TargetEncoder(kf.split(train, train[target_col])) #StratifiedKFold\n",
    "\n",
    "# use fit/fit_transform to train data, then apply transform to test data\n",
    "train.loc[:, cat_cols] = te.fit_transform(train[cat_cols], train[target_col])\n",
    "test.loc[:, cat_cols] = te.transform(test[cat_cols])"
   ]
  },
  {
   "cell_type": "code",
   "execution_count": 12,
   "metadata": {},
   "outputs": [
    {
     "name": "stderr",
     "output_type": "stream",
     "text": [
      "/opt/conda/lib/python3.7/site-packages/lightgbm/sklearn.py:726: UserWarning: 'early_stopping_rounds' argument is deprecated and will be removed in a future release of LightGBM. Pass 'early_stopping()' callback via 'callbacks' argument instead.\n",
      "  _log_warning(\"'early_stopping_rounds' argument is deprecated and will be removed in a future release of LightGBM. \"\n",
      "/opt/conda/lib/python3.7/site-packages/lightgbm/sklearn.py:736: UserWarning: 'verbose' argument is deprecated and will be removed in a future release of LightGBM. Pass 'log_evaluation()' callback via 'callbacks' argument instead.\n",
      "  _log_warning(\"'verbose' argument is deprecated and will be removed in a future release of LightGBM. \"\n"
     ]
    }
   ],
   "source": [
    "auc, importance = adversarial_validate(train[cat_cols+num_cols], test, importance_type='gain')"
   ]
  },
  {
   "cell_type": "code",
   "execution_count": 18,
   "metadata": {},
   "outputs": [
    {
     "data": {
      "text/html": [
       "<div>\n",
       "<style scoped>\n",
       "    .dataframe tbody tr th:only-of-type {\n",
       "        vertical-align: middle;\n",
       "    }\n",
       "\n",
       "    .dataframe tbody tr th {\n",
       "        vertical-align: top;\n",
       "    }\n",
       "\n",
       "    .dataframe thead th {\n",
       "        text-align: right;\n",
       "    }\n",
       "</style>\n",
       "<table border=\"1\" class=\"dataframe\">\n",
       "  <thead>\n",
       "    <tr style=\"text-align: right;\">\n",
       "      <th></th>\n",
       "      <th>feature</th>\n",
       "      <th>importance</th>\n",
       "    </tr>\n",
       "  </thead>\n",
       "  <tbody>\n",
       "    <tr>\n",
       "      <th>0</th>\n",
       "      <td>管理団体又は責任者</td>\n",
       "      <td>90697.083711</td>\n",
       "    </tr>\n",
       "    <tr>\n",
       "      <th>1</th>\n",
       "      <td>棟名</td>\n",
       "      <td>2011.380189</td>\n",
       "    </tr>\n",
       "    <tr>\n",
       "      <th>2</th>\n",
       "      <td>保管施設の名称</td>\n",
       "      <td>1922.584119</td>\n",
       "    </tr>\n",
       "    <tr>\n",
       "      <th>3</th>\n",
       "      <td>国</td>\n",
       "      <td>62.526143</td>\n",
       "    </tr>\n",
       "    <tr>\n",
       "      <th>4</th>\n",
       "      <td>label_棟名</td>\n",
       "      <td>40.917866</td>\n",
       "    </tr>\n",
       "    <tr>\n",
       "      <th>5</th>\n",
       "      <td>label_保管施設の名称</td>\n",
       "      <td>40.151115</td>\n",
       "    </tr>\n",
       "    <tr>\n",
       "      <th>6</th>\n",
       "      <td>棟名_経度_mean</td>\n",
       "      <td>35.223402</td>\n",
       "    </tr>\n",
       "    <tr>\n",
       "      <th>7</th>\n",
       "      <td>所在地_終了-開始_max</td>\n",
       "      <td>31.840408</td>\n",
       "    </tr>\n",
       "    <tr>\n",
       "      <th>8</th>\n",
       "      <td>棟名_緯度_mean</td>\n",
       "      <td>18.818406</td>\n",
       "    </tr>\n",
       "    <tr>\n",
       "      <th>9</th>\n",
       "      <td>棟名_経度_max</td>\n",
       "      <td>16.160772</td>\n",
       "    </tr>\n",
       "    <tr>\n",
       "      <th>10</th>\n",
       "      <td>棟名_開始_mean</td>\n",
       "      <td>14.457390</td>\n",
       "    </tr>\n",
       "    <tr>\n",
       "      <th>11</th>\n",
       "      <td>label_所在地</td>\n",
       "      <td>11.225484</td>\n",
       "    </tr>\n",
       "    <tr>\n",
       "      <th>12</th>\n",
       "      <td>棟名_開始_min</td>\n",
       "      <td>10.855940</td>\n",
       "    </tr>\n",
       "    <tr>\n",
       "      <th>13</th>\n",
       "      <td>保管施設の名称_終了-開始_min</td>\n",
       "      <td>10.001950</td>\n",
       "    </tr>\n",
       "    <tr>\n",
       "      <th>14</th>\n",
       "      <td>保管施設の名称_開始_max</td>\n",
       "      <td>8.819290</td>\n",
       "    </tr>\n",
       "    <tr>\n",
       "      <th>15</th>\n",
       "      <td>所有者名</td>\n",
       "      <td>6.468672</td>\n",
       "    </tr>\n",
       "    <tr>\n",
       "      <th>16</th>\n",
       "      <td>count_棟名</td>\n",
       "      <td>5.841830</td>\n",
       "    </tr>\n",
       "    <tr>\n",
       "      <th>17</th>\n",
       "      <td>count_管理団体又は責任者</td>\n",
       "      <td>5.660908</td>\n",
       "    </tr>\n",
       "    <tr>\n",
       "      <th>18</th>\n",
       "      <td>管理団体又は責任者_開始_mean</td>\n",
       "      <td>4.431164</td>\n",
       "    </tr>\n",
       "    <tr>\n",
       "      <th>19</th>\n",
       "      <td>所在地</td>\n",
       "      <td>4.034554</td>\n",
       "    </tr>\n",
       "  </tbody>\n",
       "</table>\n",
       "</div>"
      ],
      "text/plain": [
       "              feature    importance\n",
       "0           管理団体又は責任者  90697.083711\n",
       "1                  棟名   2011.380189\n",
       "2             保管施設の名称   1922.584119\n",
       "3                   国     62.526143\n",
       "4            label_棟名     40.917866\n",
       "5       label_保管施設の名称     40.151115\n",
       "6          棟名_経度_mean     35.223402\n",
       "7       所在地_終了-開始_max     31.840408\n",
       "8          棟名_緯度_mean     18.818406\n",
       "9           棟名_経度_max     16.160772\n",
       "10         棟名_開始_mean     14.457390\n",
       "11          label_所在地     11.225484\n",
       "12          棟名_開始_min     10.855940\n",
       "13  保管施設の名称_終了-開始_min     10.001950\n",
       "14     保管施設の名称_開始_max      8.819290\n",
       "15               所有者名      6.468672\n",
       "16           count_棟名      5.841830\n",
       "17    count_管理団体又は責任者      5.660908\n",
       "18  管理団体又は責任者_開始_mean      4.431164\n",
       "19                所在地      4.034554"
      ]
     },
     "execution_count": 18,
     "metadata": {},
     "output_type": "execute_result"
    }
   ],
   "source": [
    "importance.head(20)"
   ]
  },
  {
   "cell_type": "code",
   "execution_count": null,
   "metadata": {},
   "outputs": [],
   "source": []
  }
 ],
 "metadata": {
  "kernelspec": {
   "display_name": "base",
   "language": "python",
   "name": "python3"
  },
  "language_info": {
   "codemirror_mode": {
    "name": "ipython",
    "version": 3
   },
   "file_extension": ".py",
   "mimetype": "text/x-python",
   "name": "python",
   "nbconvert_exporter": "python",
   "pygments_lexer": "ipython3",
   "version": "3.7.12"
  },
  "orig_nbformat": 4
 },
 "nbformat": 4,
 "nbformat_minor": 2
}
