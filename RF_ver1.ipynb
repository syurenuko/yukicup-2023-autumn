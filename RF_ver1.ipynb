{
 "cells": [
  {
   "cell_type": "code",
   "execution_count": 1,
   "metadata": {},
   "outputs": [
    {
     "data": {
      "text/html": [
       "<style type='text/css'>\n",
       ".datatable table.frame { margin-bottom: 0; }\n",
       ".datatable table.frame thead { border-bottom: none; }\n",
       ".datatable table.frame tr.coltypes td {  color: #FFFFFF;  line-height: 6px;  padding: 0 0.5em;}\n",
       ".datatable .bool    { background: #DDDD99; }\n",
       ".datatable .object  { background: #565656; }\n",
       ".datatable .int     { background: #5D9E5D; }\n",
       ".datatable .float   { background: #4040CC; }\n",
       ".datatable .str     { background: #CC4040; }\n",
       ".datatable .time    { background: #40CC40; }\n",
       ".datatable .row_index {  background: var(--jp-border-color3);  border-right: 1px solid var(--jp-border-color0);  color: var(--jp-ui-font-color3);  font-size: 9px;}\n",
       ".datatable .frame tbody td { text-align: left; }\n",
       ".datatable .frame tr.coltypes .row_index {  background: var(--jp-border-color0);}\n",
       ".datatable th:nth-child(2) { padding-left: 12px; }\n",
       ".datatable .hellipsis {  color: var(--jp-cell-editor-border-color);}\n",
       ".datatable .vellipsis {  background: var(--jp-layout-color0);  color: var(--jp-cell-editor-border-color);}\n",
       ".datatable .na {  color: var(--jp-cell-editor-border-color);  font-size: 80%;}\n",
       ".datatable .sp {  opacity: 0.25;}\n",
       ".datatable .footer { font-size: 9px; }\n",
       ".datatable .frame_dimensions {  background: var(--jp-border-color3);  border-top: 1px solid var(--jp-border-color0);  color: var(--jp-ui-font-color3);  display: inline-block;  opacity: 0.6;  padding: 1px 10px 1px 5px;}\n",
       "</style>\n"
      ],
      "text/plain": [
       "<IPython.core.display.HTML object>"
      ]
     },
     "metadata": {},
     "output_type": "display_data"
    }
   ],
   "source": [
    "import pandas as pd\n",
    "import numpy as np\n",
    "import matplotlib.pyplot as plt\n",
    "\n",
    "from sklearn.model_selection import KFold\n",
    "from sklearn.model_selection import GroupKFold\n",
    "from sklearn.model_selection import StratifiedKFold\n",
    "from nyaggle.feature.category_encoder import TargetEncoder\n",
    "\n",
    "from nyaggle.experiment import run_experiment"
   ]
  },
  {
   "cell_type": "code",
   "execution_count": 2,
   "metadata": {},
   "outputs": [],
   "source": [
    "train = pd.read_csv('yukiCup2023Autumn-atmaCup_dataset/yukiCup 2023 Autumn x atmaCup/train.csv')\n",
    "test = pd.read_csv('yukiCup2023Autumn-atmaCup_dataset/yukiCup 2023 Autumn x atmaCup/test.csv')\n",
    "era = pd.read_csv('yukiCup2023Autumn-atmaCup_dataset/yukiCup 2023 Autumn x atmaCup/era.csv')\n",
    "sample_submission = pd.read_csv('yukiCup2023Autumn-atmaCup_dataset/yukiCup 2023 Autumn x atmaCup/sample_submission.csv')"
   ]
  },
  {
   "cell_type": "code",
   "execution_count": 3,
   "metadata": {},
   "outputs": [
    {
     "name": "stdout",
     "output_type": "stream",
     "text": [
      "['棟名', '種別2', '国', '時代', '都道府県 ※美工品は「所有者住所（所在都道府県）」', '所在地', '保管施設の名称', '所有者名', '管理団体又は責任者']\n",
      "['緯度', '経度']\n",
      "is_kokuhou\n"
     ]
    },
    {
     "name": "stderr",
     "output_type": "stream",
     "text": [
      "/opt/conda/lib/python3.7/site-packages/ipykernel_launcher.py:2: DeprecationWarning: `np.object` is a deprecated alias for the builtin `object`. To silence this warning, use `object` by itself. Doing this will not modify any behavior and is safe. \n",
      "Deprecated in NumPy 1.20; for more details and guidance: https://numpy.org/devdocs/release/1.20.0-notes.html#deprecations\n",
      "  \n",
      "/opt/conda/lib/python3.7/site-packages/ipykernel_launcher.py:5: DeprecationWarning: `np.object` is a deprecated alias for the builtin `object`. To silence this warning, use `object` by itself. Doing this will not modify any behavior and is safe. \n",
      "Deprecated in NumPy 1.20; for more details and guidance: https://numpy.org/devdocs/release/1.20.0-notes.html#deprecations\n",
      "  \"\"\"\n"
     ]
    }
   ],
   "source": [
    "#categorical変数抽出\n",
    "cat_cols = [c for c in test.columns if train[c].dtype == np.object]\n",
    "\n",
    "# numerical変数抽出\n",
    "num_cols = [c for c in test.columns if train[c].dtype != np.object]\n",
    "\n",
    "#目的変数抽出\n",
    "target_col = 'is_kokuhou'\n",
    "\n",
    "print(cat_cols)\n",
    "print(num_cols)\n",
    "print(target_col)"
   ]
  },
  {
   "cell_type": "code",
   "execution_count": 4,
   "metadata": {},
   "outputs": [],
   "source": [
    "# target encoding\n",
    "\n",
    "# kf = KFold(4)\n",
    "# kf = KFold(4, groups=train.categorical)　#GroupKFold\n",
    "kf = StratifiedKFold(5, shuffle=True, random_state=42531) #StratifiedKFold\n",
    "\n",
    "# Target encoding with K-fold\n",
    "# te = TargetEncoder(kf.split(train))\n",
    "# te = TargetEncoder(kf.split(train)) #GroupKFold\n",
    "te = TargetEncoder(kf.split(train, train[target_col])) #StratifiedKFold\n",
    "\n",
    "# use fit/fit_transform to train data, then apply transform to test data\n",
    "train.loc[:, cat_cols] = te.fit_transform(train[cat_cols], train[target_col])\n",
    "test.loc[:, cat_cols] = te.transform(test[cat_cols])"
   ]
  },
  {
   "cell_type": "code",
   "execution_count": 5,
   "metadata": {},
   "outputs": [],
   "source": [
    "# 欠損値を埋める\n",
    "train.fillna(-1, inplace=True)\n",
    "test.fillna(-1, inplace=True)"
   ]
  },
  {
   "cell_type": "code",
   "execution_count": 16,
   "metadata": {},
   "outputs": [
    {
     "data": {
      "text/html": [
       "<div>\n",
       "<style scoped>\n",
       "    .dataframe tbody tr th:only-of-type {\n",
       "        vertical-align: middle;\n",
       "    }\n",
       "\n",
       "    .dataframe tbody tr th {\n",
       "        vertical-align: top;\n",
       "    }\n",
       "\n",
       "    .dataframe thead th {\n",
       "        text-align: right;\n",
       "    }\n",
       "</style>\n",
       "<table border=\"1\" class=\"dataframe\">\n",
       "  <thead>\n",
       "    <tr style=\"text-align: right;\">\n",
       "      <th></th>\n",
       "      <th>名称</th>\n",
       "      <th>棟名</th>\n",
       "      <th>種別2</th>\n",
       "      <th>国</th>\n",
       "      <th>時代</th>\n",
       "      <th>都道府県 ※美工品は「所有者住所（所在都道府県）」</th>\n",
       "      <th>所在地</th>\n",
       "      <th>保管施設の名称</th>\n",
       "      <th>所有者名</th>\n",
       "      <th>管理団体又は責任者</th>\n",
       "      <th>緯度</th>\n",
       "      <th>経度</th>\n",
       "      <th>is_kokuhou</th>\n",
       "    </tr>\n",
       "  </thead>\n",
       "  <tbody>\n",
       "    <tr>\n",
       "      <th>0</th>\n",
       "      <td>泉布観</td>\n",
       "      <td>0.086341</td>\n",
       "      <td>0.018656</td>\n",
       "      <td>0.050689</td>\n",
       "      <td>3.759398e-03</td>\n",
       "      <td>0.041263</td>\n",
       "      <td>0.074702</td>\n",
       "      <td>0.067246</td>\n",
       "      <td>0.092894</td>\n",
       "      <td>0.074234</td>\n",
       "      <td>34.69811</td>\n",
       "      <td>135.5214</td>\n",
       "      <td>0</td>\n",
       "    </tr>\n",
       "    <tr>\n",
       "      <th>1</th>\n",
       "      <td>絹本著色准胝仏母像</td>\n",
       "      <td>0.087930</td>\n",
       "      <td>0.091445</td>\n",
       "      <td>0.081048</td>\n",
       "      <td>8.286252e-02</td>\n",
       "      <td>0.101900</td>\n",
       "      <td>0.082786</td>\n",
       "      <td>0.069094</td>\n",
       "      <td>0.154884</td>\n",
       "      <td>0.074074</td>\n",
       "      <td>-1.00000</td>\n",
       "      <td>-1.0000</td>\n",
       "      <td>0</td>\n",
       "    </tr>\n",
       "    <tr>\n",
       "      <th>2</th>\n",
       "      <td>石上神宮拝殿</td>\n",
       "      <td>0.086341</td>\n",
       "      <td>0.136364</td>\n",
       "      <td>0.050689</td>\n",
       "      <td>3.719224e-01</td>\n",
       "      <td>0.153333</td>\n",
       "      <td>0.074702</td>\n",
       "      <td>0.067246</td>\n",
       "      <td>0.074702</td>\n",
       "      <td>0.074234</td>\n",
       "      <td>34.59780</td>\n",
       "      <td>135.8520</td>\n",
       "      <td>1</td>\n",
       "    </tr>\n",
       "    <tr>\n",
       "      <th>3</th>\n",
       "      <td>剣〈銘真守（備前）／〉</td>\n",
       "      <td>0.087183</td>\n",
       "      <td>0.110973</td>\n",
       "      <td>0.081824</td>\n",
       "      <td>8.699809e-02</td>\n",
       "      <td>0.101848</td>\n",
       "      <td>0.080018</td>\n",
       "      <td>0.066914</td>\n",
       "      <td>0.144170</td>\n",
       "      <td>0.107958</td>\n",
       "      <td>-1.00000</td>\n",
       "      <td>-1.0000</td>\n",
       "      <td>0</td>\n",
       "    </tr>\n",
       "    <tr>\n",
       "      <th>4</th>\n",
       "      <td>旧新町紡績所</td>\n",
       "      <td>0.074702</td>\n",
       "      <td>0.000008</td>\n",
       "      <td>0.047437</td>\n",
       "      <td>8.493954e-13</td>\n",
       "      <td>0.028203</td>\n",
       "      <td>0.064105</td>\n",
       "      <td>0.066914</td>\n",
       "      <td>0.064105</td>\n",
       "      <td>0.073498</td>\n",
       "      <td>36.27766</td>\n",
       "      <td>139.1003</td>\n",
       "      <td>0</td>\n",
       "    </tr>\n",
       "  </tbody>\n",
       "</table>\n",
       "</div>"
      ],
      "text/plain": [
       "            名称        棟名       種別2         国            時代  \\\n",
       "0          泉布観  0.086341  0.018656  0.050689  3.759398e-03   \n",
       "1    絹本著色准胝仏母像  0.087930  0.091445  0.081048  8.286252e-02   \n",
       "2       石上神宮拝殿  0.086341  0.136364  0.050689  3.719224e-01   \n",
       "3  剣〈銘真守（備前）／〉  0.087183  0.110973  0.081824  8.699809e-02   \n",
       "4       旧新町紡績所  0.074702  0.000008  0.047437  8.493954e-13   \n",
       "\n",
       "   都道府県 ※美工品は「所有者住所（所在都道府県）」       所在地   保管施設の名称      所有者名  管理団体又は責任者  \\\n",
       "0                   0.041263  0.074702  0.067246  0.092894   0.074234   \n",
       "1                   0.101900  0.082786  0.069094  0.154884   0.074074   \n",
       "2                   0.153333  0.074702  0.067246  0.074702   0.074234   \n",
       "3                   0.101848  0.080018  0.066914  0.144170   0.107958   \n",
       "4                   0.028203  0.064105  0.066914  0.064105   0.073498   \n",
       "\n",
       "         緯度        経度  is_kokuhou  \n",
       "0  34.69811  135.5214           0  \n",
       "1  -1.00000   -1.0000           0  \n",
       "2  34.59780  135.8520           1  \n",
       "3  -1.00000   -1.0000           0  \n",
       "4  36.27766  139.1003           0  "
      ]
     },
     "execution_count": 16,
     "metadata": {},
     "output_type": "execute_result"
    }
   ],
   "source": [
    "train.head()"
   ]
  },
  {
   "cell_type": "code",
   "execution_count": 6,
   "metadata": {},
   "outputs": [
    {
     "name": "stderr",
     "output_type": "stream",
     "text": [
      "[Parallel(n_jobs=1)]: Using backend SequentialBackend with 1 concurrent workers.\n",
      "[Parallel(n_jobs=1)]: Done 500 out of 500 | elapsed:    1.7s finished\n",
      "[Parallel(n_jobs=1)]: Using backend SequentialBackend with 1 concurrent workers.\n",
      "[Parallel(n_jobs=1)]: Done 500 out of 500 | elapsed:    0.1s finished\n",
      "[Parallel(n_jobs=1)]: Using backend SequentialBackend with 1 concurrent workers.\n",
      "[Parallel(n_jobs=1)]: Done 500 out of 500 | elapsed:    0.3s finished\n",
      "[Parallel(n_jobs=1)]: Using backend SequentialBackend with 1 concurrent workers.\n",
      "[Parallel(n_jobs=1)]: Done 500 out of 500 | elapsed:    1.7s finished\n",
      "[Parallel(n_jobs=1)]: Using backend SequentialBackend with 1 concurrent workers.\n",
      "[Parallel(n_jobs=1)]: Done 500 out of 500 | elapsed:    0.1s finished\n",
      "[Parallel(n_jobs=1)]: Using backend SequentialBackend with 1 concurrent workers.\n",
      "[Parallel(n_jobs=1)]: Done 500 out of 500 | elapsed:    0.3s finished\n",
      "[Parallel(n_jobs=1)]: Using backend SequentialBackend with 1 concurrent workers.\n",
      "[Parallel(n_jobs=1)]: Done 500 out of 500 | elapsed:    1.7s finished\n",
      "[Parallel(n_jobs=1)]: Using backend SequentialBackend with 1 concurrent workers.\n",
      "[Parallel(n_jobs=1)]: Done 500 out of 500 | elapsed:    0.1s finished\n",
      "[Parallel(n_jobs=1)]: Using backend SequentialBackend with 1 concurrent workers.\n",
      "[Parallel(n_jobs=1)]: Done 500 out of 500 | elapsed:    0.3s finished\n",
      "[Parallel(n_jobs=1)]: Using backend SequentialBackend with 1 concurrent workers.\n",
      "[Parallel(n_jobs=1)]: Done 500 out of 500 | elapsed:    1.7s finished\n",
      "[Parallel(n_jobs=1)]: Using backend SequentialBackend with 1 concurrent workers.\n",
      "[Parallel(n_jobs=1)]: Done 500 out of 500 | elapsed:    0.1s finished\n",
      "[Parallel(n_jobs=1)]: Using backend SequentialBackend with 1 concurrent workers.\n",
      "[Parallel(n_jobs=1)]: Done 500 out of 500 | elapsed:    0.3s finished\n",
      "[Parallel(n_jobs=1)]: Using backend SequentialBackend with 1 concurrent workers.\n",
      "[Parallel(n_jobs=1)]: Done 500 out of 500 | elapsed:    1.7s finished\n",
      "[Parallel(n_jobs=1)]: Using backend SequentialBackend with 1 concurrent workers.\n",
      "[Parallel(n_jobs=1)]: Done 500 out of 500 | elapsed:    0.1s finished\n",
      "[Parallel(n_jobs=1)]: Using backend SequentialBackend with 1 concurrent workers.\n",
      "[Parallel(n_jobs=1)]: Done 500 out of 500 | elapsed:    0.3s finished\n"
     ]
    }
   ],
   "source": [
    "from sklearn.ensemble import RandomForestClassifier\n",
    "\n",
    "params = {\n",
    "    'n_estimators': 500,\n",
    "    'verbose': 1,\n",
    "    'min_samples_leaf': 10,\n",
    "    'random_state': 42531\n",
    "}\n",
    "\n",
    "result = run_experiment(\n",
    "    params,\n",
    "    train[num_cols + cat_cols],\n",
    "    train[target_col],\n",
    "    test[num_cols + cat_cols],\n",
    "    cv=StratifiedKFold(5, shuffle=True, random_state=42531), # cv=4,\n",
    "    #groups = train.book_id,\n",
    "    #categorical_feature=[\"user_id\",\"book_id\"],→これLGBM用？\n",
    "    algorithm_type=RandomForestClassifier\n",
    ")"
   ]
  },
  {
   "cell_type": "code",
   "execution_count": 7,
   "metadata": {},
   "outputs": [
    {
     "name": "stdout",
     "output_type": "stream",
     "text": [
      "[0.7580756843800321, 0.7744524959742352, 0.8167028985507246, 0.7878663446054751, 0.8483137999537262, 0.7922483266676503]\n"
     ]
    }
   ],
   "source": [
    "print(result.metrics) # Evalulation metrics for each fold"
   ]
  },
  {
   "cell_type": "code",
   "execution_count": 8,
   "metadata": {},
   "outputs": [
    {
     "name": "stdout",
     "output_type": "stream",
     "text": [
      "[0.759440418679549, 0.7839009661835747, 0.8051127214170692, 0.7867914653784219, 0.8461716437558341, 0.7947945307645299]\n"
     ]
    }
   ],
   "source": [
    "print(result.metrics) # Evalulation metrics for each fold"
   ]
  },
  {
   "cell_type": "code",
   "execution_count": 8,
   "metadata": {},
   "outputs": [
    {
     "data": {
      "text/plain": [
       "[]"
      ]
     },
     "execution_count": 8,
     "metadata": {},
     "output_type": "execute_result"
    }
   ],
   "source": [
    "result.importance     # Feature importance for each fold"
   ]
  },
  {
   "cell_type": "code",
   "execution_count": 10,
   "metadata": {},
   "outputs": [
    {
     "name": "stdout",
     "output_type": "stream",
     "text": [
      "[0.00915403 0.14843221 0.197659   ... 0.22420422 0.05093357 0.0061907 ]\n",
      "[0.02401811 0.27328429 0.33193874 ... 0.05426757 0.27141531 0.0583067 ]\n"
     ]
    }
   ],
   "source": [
    "print(result.test_prediction)  # Test prediction in numpy array\n",
    "print(result.oof_prediction)   # Out-of-fold prediction in numpy array"
   ]
  },
  {
   "cell_type": "code",
   "execution_count": 11,
   "metadata": {},
   "outputs": [
    {
     "data": {
      "text/plain": [
       "array([0, 0, 1, ..., 0, 0, 0])"
      ]
     },
     "execution_count": 11,
     "metadata": {},
     "output_type": "execute_result"
    }
   ],
   "source": [
    "train[target_col].to_numpy()"
   ]
  },
  {
   "cell_type": "code",
   "execution_count": 12,
   "metadata": {},
   "outputs": [
    {
     "name": "stdout",
     "output_type": "stream",
     "text": [
      "Best threshold: 0.19191919191919193\n",
      "Best F1 Score: 0.3309982486865149\n"
     ]
    }
   ],
   "source": [
    "# データ全体のF1スコアを計算 & 閾値の最適化\n",
    "from sklearn.metrics import f1_score\n",
    "\n",
    "def find_optimal_threshold(y_true, y_scores):\n",
    "    thresholds = np.linspace(0, 1, 100)\n",
    "    best_threshold = 0\n",
    "    best_score = 0\n",
    "\n",
    "    for threshold in thresholds:\n",
    "        y_pred = (y_scores > threshold).astype(int)\n",
    "        score = f1_score(y_true, y_pred)\n",
    "\n",
    "        if score > best_score:\n",
    "            best_score = score\n",
    "            best_threshold = threshold\n",
    "\n",
    "    return best_threshold, best_score\n",
    "\n",
    "# 例として使用するデータ（実際にはモデルからの予測値と実際のラベルを使用）\n",
    "y_true = train[target_col].values\n",
    "y_scores = result.oof_prediction\n",
    "\n",
    "best_threshold, best_f1_score = find_optimal_threshold(y_true, y_scores)\n",
    "print(f\"Best threshold: {best_threshold}\")\n",
    "print(f\"Best F1 Score: {best_f1_score}\")"
   ]
  },
  {
   "cell_type": "code",
   "execution_count": 13,
   "metadata": {},
   "outputs": [
    {
     "name": "stdout",
     "output_type": "stream",
     "text": [
      "[0 0 1 ... 1 0 0]\n",
      "(10065,)\n"
     ]
    }
   ],
   "source": [
    "# 閾値を超える確率を持つ要素を1に、それ以外を0に変換\n",
    "y_pred = (result.test_prediction > best_threshold).astype(int)\n",
    "print(y_pred)\n",
    "print(y_pred.shape)"
   ]
  },
  {
   "cell_type": "code",
   "execution_count": 14,
   "metadata": {},
   "outputs": [
    {
     "data": {
      "text/html": [
       "<div>\n",
       "<style scoped>\n",
       "    .dataframe tbody tr th:only-of-type {\n",
       "        vertical-align: middle;\n",
       "    }\n",
       "\n",
       "    .dataframe tbody tr th {\n",
       "        vertical-align: top;\n",
       "    }\n",
       "\n",
       "    .dataframe thead th {\n",
       "        text-align: right;\n",
       "    }\n",
       "</style>\n",
       "<table border=\"1\" class=\"dataframe\">\n",
       "  <thead>\n",
       "    <tr style=\"text-align: right;\">\n",
       "      <th></th>\n",
       "      <th>is_kokuhou</th>\n",
       "    </tr>\n",
       "  </thead>\n",
       "  <tbody>\n",
       "    <tr>\n",
       "      <th>0</th>\n",
       "      <td>0</td>\n",
       "    </tr>\n",
       "    <tr>\n",
       "      <th>1</th>\n",
       "      <td>0</td>\n",
       "    </tr>\n",
       "    <tr>\n",
       "      <th>2</th>\n",
       "      <td>1</td>\n",
       "    </tr>\n",
       "    <tr>\n",
       "      <th>3</th>\n",
       "      <td>0</td>\n",
       "    </tr>\n",
       "    <tr>\n",
       "      <th>4</th>\n",
       "      <td>0</td>\n",
       "    </tr>\n",
       "    <tr>\n",
       "      <th>...</th>\n",
       "      <td>...</td>\n",
       "    </tr>\n",
       "    <tr>\n",
       "      <th>10060</th>\n",
       "      <td>0</td>\n",
       "    </tr>\n",
       "    <tr>\n",
       "      <th>10061</th>\n",
       "      <td>0</td>\n",
       "    </tr>\n",
       "    <tr>\n",
       "      <th>10062</th>\n",
       "      <td>1</td>\n",
       "    </tr>\n",
       "    <tr>\n",
       "      <th>10063</th>\n",
       "      <td>0</td>\n",
       "    </tr>\n",
       "    <tr>\n",
       "      <th>10064</th>\n",
       "      <td>0</td>\n",
       "    </tr>\n",
       "  </tbody>\n",
       "</table>\n",
       "<p>10065 rows × 1 columns</p>\n",
       "</div>"
      ],
      "text/plain": [
       "       is_kokuhou\n",
       "0               0\n",
       "1               0\n",
       "2               1\n",
       "3               0\n",
       "4               0\n",
       "...           ...\n",
       "10060           0\n",
       "10061           0\n",
       "10062           1\n",
       "10063           0\n",
       "10064           0\n",
       "\n",
       "[10065 rows x 1 columns]"
      ]
     },
     "execution_count": 14,
     "metadata": {},
     "output_type": "execute_result"
    }
   ],
   "source": [
    "sample_submission['is_kokuhou'] = y_pred\n",
    "sample_submission"
   ]
  },
  {
   "cell_type": "code",
   "execution_count": 17,
   "metadata": {},
   "outputs": [
    {
     "data": {
      "text/plain": [
       "0    9137\n",
       "1     928\n",
       "Name: is_kokuhou, dtype: int64"
      ]
     },
     "execution_count": 17,
     "metadata": {},
     "output_type": "execute_result"
    }
   ],
   "source": [
    "sample_submission[\"is_kokuhou\"].value_counts()"
   ]
  },
  {
   "cell_type": "code",
   "execution_count": 18,
   "metadata": {},
   "outputs": [],
   "source": [
    "sample_submission.to_csv('RF_ver1.csv', index=False)"
   ]
  },
  {
   "cell_type": "code",
   "execution_count": 19,
   "metadata": {},
   "outputs": [
    {
     "data": {
      "image/png": "[encoded data removed]",
      "text/plain": [
       "<Figure size 576x432 with 1 Axes>"
      ]
     },
     "metadata": {
      "needs_background": "light"
     },
     "output_type": "display_data"
    }
   ],
   "source": [
    "fig, ax = plt.subplots(figsize=(8, 6))\n",
    "\n",
    "vmax = .02\n",
    "bins = np.linspace(0, 10, 100)\n",
    "ax.hist(result.test_prediction, bins=bins, density=True, alpha=.5, label=\"Test\")\n",
    "ax.hist(result.oof_prediction, bins=bins, density=True, alpha=.5, label=\"OutOfFold\")\n",
    "ax.grid()\n",
    "ax.legend()\n",
    "# ax.set_title(\"テストと学習時の予測傾向差分\")\n",
    "\n",
    "fig.tight_layout()"
   ]
  },
  {
   "cell_type": "code",
   "execution_count": null,
   "metadata": {},
   "outputs": [],
   "source": []
  }
 ],
 "metadata": {
  "kernelspec": {
   "display_name": "base",
   "language": "python",
   "name": "python3"
  },
  "language_info": {
   "codemirror_mode": {
    "name": "ipython",
    "version": 3
   },
   "file_extension": ".py",
   "mimetype": "text/x-python",
   "name": "python",
   "nbconvert_exporter": "python",
   "pygments_lexer": "ipython3",
   "version": "3.7.12"
  },
  "orig_nbformat": 4
 },
 "nbformat": 4,
 "nbformat_minor": 2
}
